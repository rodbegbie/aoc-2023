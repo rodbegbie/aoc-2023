{
 "cells": [
  {
   "cell_type": "code",
   "execution_count": 14,
   "metadata": {},
   "outputs": [],
   "source": [
    "#INPUT\n",
    "\n",
    "INPUT = \"\"\"Time:        38     67     76     73\n",
    "Distance:   234   1027   1157   1236\"\"\""
   ]
  },
  {
   "cell_type": "code",
   "execution_count": 8,
   "metadata": {},
   "outputs": [],
   "source": [
    "# SAMPLE INPUT\n",
    "\n",
    "INPUT = \"\"\"Time:      7  15   30\n",
    "Distance:  9  40  200\"\"\""
   ]
  },
  {
   "cell_type": "code",
   "execution_count": 5,
   "metadata": {},
   "outputs": [
    {
     "name": "stdout",
     "output_type": "stream",
     "text": [
      "TOTAL WINS 303600\n"
     ]
    }
   ],
   "source": [
    "# Part 1\n",
    "\n",
    "rows = INPUT.splitlines()\n",
    "times = [int(x) for x in rows[0].split()[1:]]\n",
    "distances = [int(x) for x in rows[1].split()[1:]]\n",
    "\n",
    "total_wins = 1\n",
    "for i in range(len(times)):\n",
    "    wins = 0\n",
    "    time = times[i]\n",
    "    distance = distances[i]\n",
    "    for j in range(time):\n",
    "        if (time-j) * j > distance:\n",
    "            wins += 1\n",
    "        else:\n",
    "            if wins:\n",
    "                break\n",
    "    total_wins *= wins\n",
    "\n",
    "print (\"TOTAL WINS\", total_wins)\n",
    "\n",
    "\n"
   ]
  },
  {
   "cell_type": "code",
   "execution_count": 15,
   "metadata": {},
   "outputs": [
    {
     "name": "stdout",
     "output_type": "stream",
     "text": [
      "TIME 38677673 DISTANCE 234102711571236\n",
      "TOTAL WINS 23654842\n"
     ]
    }
   ],
   "source": [
    "# Part 2\n",
    "rows = INPUT.splitlines()\n",
    "time = int(\"\".join(rows[0].split()[1:]))\n",
    "distance = int(\"\".join(rows[1].split()[1:]))\n",
    "\n",
    "print (\"TIME\", time, \"DISTANCE\", distance)\n",
    "\n",
    "start_time = 0\n",
    "end_time = 0\n",
    "\n",
    "for j in range(time):\n",
    "    if (time-j) * j > distance:\n",
    "        start_time = j\n",
    "        break\n",
    "\n",
    "for j in reversed(range(time)):\n",
    "    if (time-j) * j > distance:\n",
    "        end_time = j\n",
    "        break\n",
    "\n",
    "print (\"TOTAL WINS\", end_time - start_time + 1)\n",
    "\n",
    "\n",
    "\n"
   ]
  },
  {
   "cell_type": "code",
   "execution_count": null,
   "metadata": {},
   "outputs": [],
   "source": []
  }
 ],
 "metadata": {
  "kernelspec": {
   "display_name": "Python 3.10.8 64-bit",
   "language": "python",
   "name": "python3"
  },
  "language_info": {
   "codemirror_mode": {
    "name": "ipython",
    "version": 3
   },
   "file_extension": ".py",
   "mimetype": "text/x-python",
   "name": "python",
   "nbconvert_exporter": "python",
   "pygments_lexer": "ipython3",
   "version": "3.10.0"
  },
  "orig_nbformat": 4,
  "vscode": {
   "interpreter": {
    "hash": "b0fa6594d8f4cbf19f97940f81e996739fb7646882a419484c72d19e05852a7e"
   }
  }
 },
 "nbformat": 4,
 "nbformat_minor": 2
}
